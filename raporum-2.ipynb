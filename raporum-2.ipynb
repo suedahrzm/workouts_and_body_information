{
 "cells": [
  {
   "cell_type": "markdown",
   "id": "3be6b985-e8d4-4026-8bbd-e8d5cb543973",
   "metadata": {},
   "source": [
    "# Vücut Kitle İndeksi ve Kas Grubu Takibi Programı Raporu"
   ]
  },
  {
   "cell_type": "markdown",
   "id": "a6d87e1e-847b-46d4-b4bd-7a5bae44e25d",
   "metadata": {},
   "source": [
    "1. Giriş"
   ]
  },
  {
   "cell_type": "markdown",
   "id": "01ccd292-3d3e-4dc6-a1c0-5739f5482f60",
   "metadata": {},
   "source": [
    "Bu Python programı, kullanıcıların vücut kitle indeksi (BMI) ve vücut yağ oranlarını hesaplamalarına yardımcı olur. \n",
    "Ayrıca kullanıcıların haftalık egzersizlerini kaydederek hangi kas gruplarını çalıştırdıklarını takip eder ve bunlara göre sağlık puanları oluşturur.\n",
    "Haftalık veriler görsel olarak pasta ve çubuk grafikleriyle gösterilir."
   ]
  },
  {
   "cell_type": "markdown",
   "id": "70b7d0fc-d16a-49ae-9779-61c020ba6115",
   "metadata": {},
   "source": [
    "2.0. Kullanılan Yöntemler"
   ]
  },
  {
   "cell_type": "markdown",
   "id": "eaad43e3-9537-419e-b86f-b9ba02281702",
   "metadata": {},
   "source": [
    "2.1. Vücut Kitle İndeksi Hesaplama\n",
    "Vücut Kitle İndeksi (BMI), bir kişinin kilolu olup olmadığını belirlemek için kullanılan bir ölçüttür. \n",
    "BMI, kilogram cinsinden ağırlık, metre cinsinden boyun karesi ile hesaplanır. \n",
    "Kodda bu hesaplama şu şekilde yapılır:"
   ]
  },
  {
   "cell_type": "markdown",
   "id": "cefe52c8-d30a-492a-acb3-9390ebc9363d",
   "metadata": {},
   "source": [
    "* bmi = round(weight / (height_m ** 2), 2)"
   ]
  },
  {
   "cell_type": "markdown",
   "id": "71c9cba1-98c3-428f-a7dd-d8fa6d57e015",
   "metadata": {},
   "source": [
    "2.2. Vücut Yağ Oranı Hesaplama\n",
    "Vücut yağ oranı, kişinin vücut yağının toplam vücut ağırlığına oranıdır. \n",
    "Hesaplama, cinsiyete ve çeşitli ölçümlere dayanır. Kadınlar için kalça ölçüsü gereklidir. \n",
    "Hesaplama formülü şu şekildedir:"
   ]
  },
  {
   "cell_type": "markdown",
   "id": "8825a9a3-a5b4-4ad3-9e05-8887ce8c0abc",
   "metadata": {},
   "source": [
    "* Erkekler için\n",
    "body_fat = (86.010 * ((waist - neck) / height)) - (70.041 * (height / 100)) + 36.76\n",
    "* Kadınlar için\n",
    "body_fat = (163.205 * ((waist + hip - neck) / height)) - (97.684 * (height / 100)) - 78.387"
   ]
  },
  {
   "cell_type": "markdown",
   "id": "8f172fde-4ff3-45e1-8ab4-1d18ab829e6c",
   "metadata": {},
   "source": [
    "2.3. Haftalık Egzersiz Takibi\n",
    "Kullanıcı, her hafta yaptığı egzersizleri girer ve bu egzersizlerin hangi kas gruplarını çalıştırdığı takip edilir. \n",
    "Her hafta sonunda, kas grubu kullanım yüzdeleri hesaplanır ve grafikler ile görselleştirilir."
   ]
  },
  {
   "cell_type": "markdown",
   "id": "e4635de1-70a2-4264-b5f4-30f4ff979356",
   "metadata": {},
   "source": [
    "2.4. Veri Saklama ve İşleme\n",
    "Veriler, JSON formatında saklanır. \n",
    "Haftalık kas grubu kullanım verileri kaydedilir ve her hafta sonu grafiklerle görselleştirilir. "
   ]
  },
  {
   "cell_type": "markdown",
   "id": "4746a198-4605-41cb-ace8-aea870d242cc",
   "metadata": {},
   "source": [
    "3.0. Programın Çalışma Prensibi\n",
    "Program kullanıcıdan verileri alır, hesaplamaları yapar ve sonuçları ekrana yazdırır. \n",
    "Ayrıca, haftalık egzersiz verileri kaydedilir ve kas grubu kullanım yüzdeleri görselleştirilir."
   ]
  },
  {
   "cell_type": "markdown",
   "id": "ba709a25-ebcf-44c1-be7d-7fc989559e44",
   "metadata": {},
   "source": [
    "3.1. Örnek Çıktı"
   ]
  },
  {
   "cell_type": "markdown",
   "id": "900b5c88-1334-44ff-b67a-8502c8b48002",
   "metadata": {},
   "source": [
    "###### Vücut Kitle İndeksi ve Yağ Oranı Hesaplama Programı \n",
    "###### Yaşınızı giriniz:  22\n",
    "###### Boyunuzu (cm cinsinden) giriniz:  185\n",
    "###### Kilonuzu (kg cinsinden) giriniz:  80\n",
    "###### Cinsiyetinizi giriniz (male/female):  male\n",
    "###### Bel ölçünüzü (cm cinsinden) giriniz:  75\n",
    "###### Boyun ölçünüzü (cm cinsinden) giriniz:  41\n",
    "\n",
    "###### Vücut Kitle İndeksiniz (BMI): 23.37\n",
    "###### Vücut Yağ Oranınız: 3.86%\n",
    "###### Vücut yağ oranı düşük.\n",
    "###### BMI normal.\n",
    "\n",
    "###### 1. haftanın egzersizlerini girin:\n",
    "###### 1. gün yaptığınız spor hareketlerini girin (virgülle ayırın):  kettlebell clean\n",
    "###### 2. gün yaptığınız spor hareketlerini girin (virgülle ayırın):  step-up variation\n",
    "###### 3. gün yaptığınız spor hareketlerini girin (virgülle ayırın):  dumbbell press variation\n",
    "###### 4. gün yaptığınız spor hareketlerini girin (virgülle ayırın):  kettlebell snatch\n",
    "###### 5. gün yaptığınız spor hareketlerini girin (virgülle ayırın):  single-arm dumbbell press\n",
    "###### 6. gün yaptığınız spor hareketlerini girin (virgülle ayırın):  oblique twist\n",
    "###### 7. gün yaptığınız spor hareketlerini girin (virgülle ayırın):  sissy squat\n",
    "\n",
    "###### 1. haftanın kas grubu kullanım yüzdeleri:\n",
    "###### Biceps: 0.00%\n",
    "###### Chest: 7.69%\n",
    "###### Core: 7.69%\n",
    "###### Forearms: 0.00%\n",
    "###### Back: 0.00%\n",
    "###### Triceps: 15.38%\n",
    "###### Legs: 30.77%\n",
    "###### Glutes: 15.38%\n",
    "###### Shoulders: 23.08%\n",
    "\n",
    "##### 1. hafta için aldığınız toplam puan: 22 puan. "
   ]
  },
  {
   "cell_type": "markdown",
   "id": "dea52ddd-80a0-49b4-b274-3a176ce08bc5",
   "metadata": {},
   "source": [
    "3.2. Grafik Çıktıları\n",
    "Grafikler, kas grubu kullanım yüzdelerini ve haftalık alınan puanları gösterir."
   ]
  },
  {
   "cell_type": "markdown",
   "id": "5486f256-ecfc-4556-8245-bdae5130cf11",
   "metadata": {},
   "source": [
    "4.0. Sonuç\n",
    "Bu program, kullanıcıların vücut sağlıklarını izlemelerine yardımcı olurken, egzersiz verilerini kaydedip analiz etmelerini sağlar. \n",
    "Ayrıca, görselleştirmeler ile daha iyi bir kullanıcı deneyimi sunar."
   ]
  },
  {
   "cell_type": "code",
   "execution_count": null,
   "id": "5de1bafa-7688-48b9-9740-dc21f97cf7a4",
   "metadata": {},
   "outputs": [],
   "source": []
  }
 ],
 "metadata": {
  "kernelspec": {
   "display_name": "Python 3 (ipykernel)",
   "language": "python",
   "name": "python3"
  },
  "language_info": {
   "codemirror_mode": {
    "name": "ipython",
    "version": 3
   },
   "file_extension": ".py",
   "mimetype": "text/x-python",
   "name": "python",
   "nbconvert_exporter": "python",
   "pygments_lexer": "ipython3",
   "version": "3.12.7"
  }
 },
 "nbformat": 4,
 "nbformat_minor": 5
}
